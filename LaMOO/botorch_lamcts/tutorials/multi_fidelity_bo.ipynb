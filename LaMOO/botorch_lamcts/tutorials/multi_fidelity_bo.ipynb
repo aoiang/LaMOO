{
  "cells": [
    {
      "cell_type": "markdown",
      "metadata": {},
      "source": [
        "## Multi-Fidelity BO in BoTorch with Knowledge Gradient\n",
        "\n",
        "In this tutorial, we show how to perform multi-fidelity Bayesian optimization (BO) in BoTorch using the Multi-fidelity Knowledge Gradient (qMFKG) acquisition function [1, 2].\n",
        "\n",
        "[1] [J. Wu, P.I. Frazier. Continuous-Fidelity Bayesian Optimization with Knowledge Gradient. NIPS Workshop on Bayesian Optimization, 2017.](https://bayesopt.github.io/papers/2017/20.pdf)\n",
        "[2] [J. Wu, S. Toscano-Palmerin, P.I. Frazier, A.G. Wilson. Practical Multi-fidelity Bayesian Optimization for Hyperparameter Tuning. Conference on Uncertainty in Artificial Intelligence (UAI), 2019](https://arxiv.org/pdf/1903.04703.pdf)"
      ]
    },
    {
      "cell_type": "markdown",
      "metadata": {},
      "source": [
        "### Set dtype and device"
      ]
    },
    {
      "cell_type": "code",
      "execution_count": 1,
      "metadata": {},
      "outputs": [],
      "source": [
        "import torch\n",
        "tkwargs = {\n",
        "    \"dtype\": torch.double,\n",
        "    \"device\": torch.device(\"cuda\" if torch.cuda.is_available() else \"cpu\"),\n",
        "}"
      ]
    },
    {
      "cell_type": "markdown",
      "metadata": {},
      "source": [
        "### Problem setup\n",
        "\n",
        "We'll consider the Augmented Hartmann multi-fidelity synthetic test problem. This function is a version of the Hartmann6 test function with an additional dimension representing the fidelity parameter; details are in [2]. The function takes the form $f(x,s)$ where $x \\in [0,1]^6$ and $s \\in [0,1]$. The target fidelity is 1.0, which means that our goal is to solve $\\max_x f(x,1.0)$ by making use of cheaper evaluations $f(x,s)$ for $s < 1.0$. In this example, we'll assume that the cost function takes the form $5.0 + s$, illustrating a situation where the fixed cost is $5.0$."
      ]
    },
    {
      "cell_type": "code",
      "execution_count": 2,
      "metadata": {},
      "outputs": [],
      "source": [
        "from botorch.test_functions.multi_fidelity import AugmentedHartmann\n",
        "\n",
        "problem = AugmentedHartmann(negate=True).to(**tkwargs)"
      ]
    },
    {
      "cell_type": "markdown",
      "metadata": {},
      "source": [
        "#### Model initialization\n",
        "\n",
        "We use a `SingleTaskMultiFidelityGP` as the surrogate model, which uses a kernel from [2] that is well-suited for multi-fidelity applications."
      ]
    },
    {
      "cell_type": "code",
      "execution_count": 3,
      "metadata": {},
      "outputs": [],
      "source": [
        "from botorch.models.gp_regression_fidelity import SingleTaskMultiFidelityGP\n",
        "from botorch.models.transforms.outcome import Standardize\n",
        "from gpytorch.mlls.exact_marginal_log_likelihood import ExactMarginalLogLikelihood\n",
        "from botorch.utils.transforms import unnormalize\n",
        "from botorch.utils.sampling import draw_sobol_samples\n",
        "\n",
        "def generate_initial_data(n=16):\n",
        "    # generate training data\n",
        "    train_x = torch.rand(n, 7, **tkwargs)\n",
        "    train_obj = problem(train_x).unsqueeze(-1) # add output dimension\n",
        "    return train_x, train_obj\n",
        "    \n",
        "def initialize_model(train_x, train_obj):\n",
        "    # define a surrogate model suited for a \"training data\"-like fidelity parameter\n",
        "    # in dimension 6, as in [2]\n",
        "    model = SingleTaskMultiFidelityGP(\n",
        "        train_x, \n",
        "        train_obj, \n",
        "        outcome_transform=Standardize(m=1),\n",
        "        data_fidelity=6\n",
        "    )   \n",
        "    mll = ExactMarginalLogLikelihood(model.likelihood, model)\n",
        "    return mll, model"
      ]
    },
    {
      "cell_type": "markdown",
      "metadata": {},
      "source": [
        "#### Define a helper function to construct the MFKG acquisition function\n",
        "The helper function illustrates how one can initialize a $q$MFKG acquisition function. In this example, we assume that the affine cost is known. We then use the notion of a `CostAwareUtility` in BoTorch to scalarize the competing objectives of information gain and cost. The MFKG acquisition function optimizes the ratio of information gain to cost, which is captured by the `InverseCostWeightedUtility`.\n",
        "\n",
        "In order for MFKG to evaluate the information gain, it uses the model to predict the function value at the highest fidelity after conditioning on the observation. This is handled by the `project` argument, which specifies how to transform a tensor `X` to its target fidelity. We use a default helper function called `project_to_target_fidelity` to achieve this.\n",
        "\n",
        "An important point to keep in mind: in the case of standard KG, one can ignore the current value and simply optimize the expected maximum posterior mean of the next stage. However, for MFKG, since the goal is optimize information *gain* per cost, it is important to first compute the current value (i.e., maximum of the posterior mean at the target fidelity). To accomplish this, we use a `FixedFeatureAcquisitionFunction` on top of a `PosteriorMean`."
      ]
    },
    {
      "cell_type": "code",
      "execution_count": 4,
      "metadata": {},
      "outputs": [],
      "source": [
        "from botorch import fit_gpytorch_model\n",
        "from botorch.models.cost import AffineFidelityCostModel\n",
        "from botorch.acquisition.cost_aware import InverseCostWeightedUtility\n",
        "from botorch.acquisition import PosteriorMean\n",
        "from botorch.acquisition.knowledge_gradient import qMultiFidelityKnowledgeGradient\n",
        "from botorch.acquisition.fixed_feature import FixedFeatureAcquisitionFunction\n",
        "from botorch.optim.optimize import optimize_acqf\n",
        "from botorch.acquisition.utils import project_to_target_fidelity\n",
        "\n",
        "bounds = torch.tensor([[0.0] * problem.dim, [1.0] * problem.dim], **tkwargs)\n",
        "target_fidelities = {6: 1.0}\n",
        "\n",
        "cost_model = AffineFidelityCostModel(fidelity_weights={6: 1.0}, fixed_cost=5.0)\n",
        "cost_aware_utility = InverseCostWeightedUtility(cost_model=cost_model)\n",
        "\n",
        "\n",
        "def project(X):\n",
        "    return project_to_target_fidelity(X=X, target_fidelities=target_fidelities)\n",
        "\n",
        "def get_mfkg(model):\n",
        "    \n",
        "    curr_val_acqf = FixedFeatureAcquisitionFunction(\n",
        "        acq_function=PosteriorMean(model),\n",
        "        d=7,\n",
        "        columns=[6],\n",
        "        values=[1],\n",
        "    )\n",
        "    \n",
        "    _, current_value = optimize_acqf(\n",
        "        acq_function=curr_val_acqf,\n",
        "        bounds=bounds[:,:-1],\n",
        "        q=1,\n",
        "        num_restarts=10,\n",
        "        raw_samples=1024,\n",
        "        options={\"batch_limit\": 10, \"maxiter\": 200},\n",
        "    )\n",
        "        \n",
        "    return qMultiFidelityKnowledgeGradient(\n",
        "        model=model,\n",
        "        num_fantasies=128,\n",
        "        current_value=current_value,\n",
        "        cost_aware_utility=cost_aware_utility,\n",
        "        project=project,\n",
        "    )"
      ]
    },
    {
      "cell_type": "markdown",
      "metadata": {},
      "source": [
        "#### Define a helper function that performs the essential BO step\n",
        "This helper function optimizes the acquisition function and returns the batch $\\{x_1, x_2, \\ldots x_q\\}$ along with the observed function values. "
      ]
    },
    {
      "cell_type": "code",
      "execution_count": 5,
      "metadata": {},
      "outputs": [],
      "source": [
        "from botorch.optim.initializers import gen_one_shot_kg_initial_conditions\n",
        "torch.set_printoptions(precision=3, sci_mode=False)\n",
        "\n",
        "def optimize_mfkg_and_get_observation(mfkg_acqf):\n",
        "    \"\"\"Optimizes MFKG and returns a new candidate, observation, and cost.\"\"\"\n",
        "    \n",
        "    X_init = gen_one_shot_kg_initial_conditions(\n",
        "        acq_function = mfkg_acqf,\n",
        "        bounds=bounds,\n",
        "        q=4,\n",
        "        num_restarts=10,\n",
        "        raw_samples=512,\n",
        "    )\n",
        "    candidates, _ = optimize_acqf(\n",
        "        acq_function=mfkg_acqf,\n",
        "        bounds=bounds,\n",
        "        q=4,\n",
        "        num_restarts=10,\n",
        "        raw_samples=512,\n",
        "        batch_initial_conditions=X_init,\n",
        "        options={\"batch_limit\": 5, \"maxiter\": 200},\n",
        "    )\n",
        "    # observe new values\n",
        "    cost = cost_model(candidates).sum()\n",
        "    new_x = candidates.detach()\n",
        "    new_obj = problem(new_x).unsqueeze(-1)\n",
        "    print(f\"candidates:\\n{new_x}\\n\")\n",
        "    print(f\"observations:\\n{new_obj}\\n\\n\")\n",
        "    return new_x, new_obj, cost"
      ]
    },
    {
      "cell_type": "markdown",
      "metadata": {},
      "source": [
        "### Perform a few steps of multi-fidelity BO\n",
        "First, let's generate some initial random data and fit a surrogate model."
      ]
    },
    {
      "cell_type": "code",
      "execution_count": 6,
      "metadata": {},
      "outputs": [],
      "source": [
        "train_x, train_obj = generate_initial_data(n=16)"
      ]
    },
    {
      "cell_type": "markdown",
      "metadata": {},
      "source": [
        "We can now use the helper functions above to run a few iterations of BO."
      ]
    },
    {
      "cell_type": "code",
      "execution_count": 7,
      "metadata": {},
      "outputs": [
        {
          "name": "stdout",
          "output_type": "stream",
          "text": [
            "candidates:\n",
            "tensor([[0.293, 0.989, 0.604, 0.610, 0.223, 0.097, 0.000],\n",
            "        [0.224, 0.821, 0.675, 0.531, 0.385, 0.172, 0.000],\n",
            "        [0.309, 0.914, 0.523, 0.377, 0.317, 0.202, 0.000],\n",
            "        [0.295, 0.953, 0.501, 0.610, 0.473, 0.137, 0.000]],\n",
            "       dtype=torch.float64)\n",
            "\n",
            "observations:\n",
            "tensor([[2.222],\n",
            "        [1.403],\n",
            "        [1.326],\n",
            "        [2.123]], dtype=torch.float64)\n",
            "\n",
            "\n",
            "candidates:\n",
            "tensor([[0.354, 0.922, 0.604, 0.635, 0.317, 0.094, 0.412],\n",
            "        [0.293, 0.942, 0.500, 0.592, 0.286, 0.022, 0.620],\n",
            "        [0.300, 0.996, 0.639, 0.576, 0.430, 0.064, 0.623],\n",
            "        [1.000, 0.881, 0.420, 1.000, 0.583, 0.097, 0.651]],\n",
            "       dtype=torch.float64)\n",
            "\n",
            "observations:\n",
            "tensor([[2.775],\n",
            "        [2.484],\n",
            "        [2.353],\n",
            "        [0.001]], dtype=torch.float64)\n",
            "\n",
            "\n",
            "candidates:\n",
            "tensor([[1.000, 0.591, 0.079, 0.999, 0.657, 0.999, 0.793],\n",
            "        [0.402, 0.917, 0.582, 0.609, 0.334, 0.000, 0.347],\n",
            "        [0.351, 0.913, 0.626, 0.746, 0.343, 0.016, 0.459],\n",
            "        [0.385, 1.000, 0.501, 0.698, 0.317, 0.051, 0.451]],\n",
            "       dtype=torch.float64)\n",
            "\n",
            "observations:\n",
            "tensor([[0.000],\n",
            "        [3.044],\n",
            "        [2.221],\n",
            "        [2.415]], dtype=torch.float64)\n",
            "\n",
            "\n",
            "candidates:\n",
            "tensor([[0.415, 0.952, 0.599, 0.568, 0.380, 0.006, 0.464],\n",
            "        [0.402, 0.866, 0.532, 0.591, 0.408, 0.004, 0.445],\n",
            "        [0.405, 0.881, 0.710, 0.587, 0.343, 0.000, 0.468],\n",
            "        [1.000, 0.023, 0.591, 0.420, 0.913, 0.873, 0.946]],\n",
            "       dtype=torch.float64)\n",
            "\n",
            "observations:\n",
            "tensor([[2.997],\n",
            "        [3.091],\n",
            "        [3.115],\n",
            "        [0.001]], dtype=torch.float64)\n",
            "\n",
            "\n",
            "candidates:\n",
            "tensor([[0.387, 0.846, 0.639, 0.544, 0.326, 0.003, 0.401],\n",
            "        [0.387, 0.862, 0.712, 0.574, 0.460, 0.009, 0.485],\n",
            "        [0.974, 0.017, 0.736, 0.997, 0.227, 0.784, 1.000],\n",
            "        [0.432, 0.837, 0.653, 0.574, 0.370, 0.054, 0.537]],\n",
            "       dtype=torch.float64)\n",
            "\n",
            "observations:\n",
            "tensor([[3.052],\n",
            "        [3.099],\n",
            "        [0.094],\n",
            "        [3.080]], dtype=torch.float64)\n",
            "\n",
            "\n",
            "candidates:\n",
            "tensor([[0.391, 0.869, 0.658, 0.586, 0.357, 0.059, 0.514],\n",
            "        [0.326, 0.423, 0.475, 0.295, 0.553, 0.556, 1.000],\n",
            "        [0.400, 0.792, 0.687, 0.603, 0.366, 0.017, 0.743],\n",
            "        [0.358, 0.445, 0.398, 0.219, 0.444, 0.579, 0.645]],\n",
            "       dtype=torch.float64)\n",
            "\n",
            "observations:\n",
            "tensor([[3.145],\n",
            "        [1.035],\n",
            "        [2.936],\n",
            "        [1.555]], dtype=torch.float64)\n",
            "\n",
            "\n"
          ]
        }
      ],
      "source": [
        "cumulative_cost = 0.0\n",
        "\n",
        "for _ in range(6):\n",
        "    mll, model = initialize_model(train_x, train_obj)\n",
        "    fit_gpytorch_model(mll)\n",
        "    mfkg_acqf = get_mfkg(model)\n",
        "    new_x, new_obj, cost = optimize_mfkg_and_get_observation(mfkg_acqf)\n",
        "    train_x = torch.cat([train_x, new_x])\n",
        "    train_obj = torch.cat([train_obj, new_obj])\n",
        "    cumulative_cost += cost"
      ]
    },
    {
      "cell_type": "markdown",
      "metadata": {},
      "source": [
        "### Make a final recommendation\n",
        "In multi-fidelity BO, there are usually fewer observations of the function at the target fidelity, so it is important to use a recommendation function that uses the correct fidelity. Here, we maximize the posterior mean with the fidelity dimension fixed to the target fidelity of 1.0."
      ]
    },
    {
      "cell_type": "code",
      "execution_count": 8,
      "metadata": {},
      "outputs": [],
      "source": [
        "def get_recommendation(model):\n",
        "    rec_acqf = FixedFeatureAcquisitionFunction(\n",
        "        acq_function=PosteriorMean(model),\n",
        "        d=7,\n",
        "        columns=[6],\n",
        "        values=[1],\n",
        "    )\n",
        "\n",
        "    final_rec, _ = optimize_acqf(\n",
        "        acq_function=rec_acqf,\n",
        "        bounds=bounds[:,:-1],\n",
        "        q=1,\n",
        "        num_restarts=10,\n",
        "        raw_samples=512,\n",
        "        options={\"batch_limit\": 5, \"maxiter\": 200},\n",
        "    )\n",
        "    \n",
        "    final_rec = rec_acqf._construct_X_full(final_rec)\n",
        "    \n",
        "    objective_value = problem(final_rec)\n",
        "    print(f\"recommended point:\\n{final_rec}\\n\\nobjective value:\\n{objective_value}\")\n",
        "    return final_rec"
      ]
    },
    {
      "cell_type": "code",
      "execution_count": 9,
      "metadata": {},
      "outputs": [
        {
          "name": "stdout",
          "output_type": "stream",
          "text": [
            "recommended point:\n",
            "tensor([[0.406, 0.859, 0.654, 0.582, 0.389, 0.022, 1.000]],\n",
            "       dtype=torch.float64)\n",
            "\n",
            "objective value:\n",
            "tensor([3.147], dtype=torch.float64)\n",
            "\n",
            "total cost: 132.00530743265583\n",
            "\n"
          ]
        }
      ],
      "source": [
        "final_rec = get_recommendation(model)\n",
        "print(f\"\\ntotal cost: {cumulative_cost}\\n\")"
      ]
    },
    {
      "cell_type": "markdown",
      "metadata": {},
      "source": [
        "### Comparison to standard EI (always use target fidelity)\n",
        "Let's now repeat the same steps using a standard EI acquisition function (note that this is not a rigorous comparison as we are only looking at one trial in order to keep computational requirements low)."
      ]
    },
    {
      "cell_type": "code",
      "execution_count": 10,
      "metadata": {},
      "outputs": [],
      "source": [
        "from botorch.acquisition import qExpectedImprovement\n",
        "\n",
        "def get_ei(model, best_f):\n",
        "           \n",
        "    return FixedFeatureAcquisitionFunction(\n",
        "        acq_function=qExpectedImprovement(model=model, best_f=best_f),\n",
        "        d=7,\n",
        "        columns=[6],\n",
        "        values=[1],\n",
        "    ) \n",
        "\n",
        "def optimize_ei_and_get_observation(ei_acqf):\n",
        "    \"\"\"Optimizes EI and returns a new candidate, observation, and cost.\"\"\"\n",
        "    \n",
        "    candidates, _ = optimize_acqf(\n",
        "        acq_function=ei_acqf,\n",
        "        bounds=bounds[:,:-1],\n",
        "        q=4,\n",
        "        num_restarts=10,\n",
        "        raw_samples=512,\n",
        "        options={\"batch_limit\": 5, \"maxiter\": 200},\n",
        "    )\n",
        "    \n",
        "    # add the fidelity parameter\n",
        "    candidates = ei_acqf._construct_X_full(candidates)\n",
        "    \n",
        "    # observe new values\n",
        "    cost = cost_model(candidates).sum()\n",
        "    new_x = candidates.detach()\n",
        "    new_obj = problem(new_x).unsqueeze(-1)\n",
        "    print(f\"candidates:\\n{new_x}\\n\")\n",
        "    print(f\"observations:\\n{new_obj}\\n\\n\")\n",
        "    return new_x, new_obj, cost"
      ]
    },
    {
      "cell_type": "code",
      "execution_count": 11,
      "metadata": {},
      "outputs": [
        {
          "name": "stdout",
          "output_type": "stream",
          "text": [
            "candidates:\n",
            "tensor([[0.414, 0.047, 0.127, 0.321, 0.327, 0.827, 1.000],\n",
            "        [0.408, 0.176, 0.000, 0.254, 0.316, 0.683, 1.000],\n",
            "        [0.394, 0.239, 0.148, 0.400, 0.314, 0.726, 1.000],\n",
            "        [0.504, 0.127, 0.029, 0.415, 0.286, 0.678, 1.000]],\n",
            "       dtype=torch.float64)\n",
            "\n",
            "observations:\n",
            "tensor([[1.930],\n",
            "        [2.179],\n",
            "        [2.162],\n",
            "        [1.710]], dtype=torch.float64)\n",
            "\n",
            "\n",
            "candidates:\n",
            "tensor([[0.364, 0.171, 0.058, 0.355, 0.354, 0.670, 1.000],\n",
            "        [0.405, 0.305, 0.034, 0.313, 0.351, 0.750, 1.000],\n",
            "        [0.562, 0.594, 0.791, 0.195, 0.695, 0.224, 1.000],\n",
            "        [0.413, 0.228, 0.152, 0.246, 0.331, 0.677, 1.000]],\n",
            "       dtype=torch.float64)\n",
            "\n",
            "observations:\n",
            "tensor([[2.260],\n",
            "        [1.916],\n",
            "        [0.174],\n",
            "        [2.426]], dtype=torch.float64)\n",
            "\n",
            "\n",
            "candidates:\n",
            "tensor([[0.508, 0.079, 0.442, 0.417, 0.509, 0.443, 1.000],\n",
            "        [0.402, 0.125, 0.175, 0.238, 0.344, 0.660, 1.000],\n",
            "        [0.381, 0.235, 0.161, 0.260, 0.329, 0.596, 1.000],\n",
            "        [0.333, 0.167, 0.171, 0.208, 0.324, 0.671, 1.000]],\n",
            "       dtype=torch.float64)\n",
            "\n",
            "observations:\n",
            "tensor([[0.733],\n",
            "        [2.501],\n",
            "        [2.450],\n",
            "        [2.593]], dtype=torch.float64)\n",
            "\n",
            "\n",
            "candidates:\n",
            "tensor([[0.196, 0.070, 0.508, 0.100, 0.024, 0.653, 1.000],\n",
            "        [0.298, 0.144, 0.211, 0.188, 0.329, 0.646, 1.000],\n",
            "        [0.527, 0.666, 0.272, 0.965, 0.281, 0.298, 1.000],\n",
            "        [0.333, 0.843, 0.004, 0.577, 0.936, 0.080, 1.000]],\n",
            "       dtype=torch.float64)\n",
            "\n",
            "observations:\n",
            "tensor([[0.804],\n",
            "        [2.617],\n",
            "        [0.144],\n",
            "        [2.540]], dtype=torch.float64)\n",
            "\n",
            "\n",
            "candidates:\n",
            "tensor([[0.267, 0.934, 0.000, 0.703, 0.967, 0.021, 1.000],\n",
            "        [0.349, 0.923, 0.000, 0.578, 0.877, 0.000, 1.000],\n",
            "        [0.277, 0.946, 0.000, 0.429, 0.958, 0.056, 1.000],\n",
            "        [0.922, 0.420, 0.661, 0.940, 0.577, 0.313, 1.000]],\n",
            "       dtype=torch.float64)\n",
            "\n",
            "observations:\n",
            "tensor([[1.712],\n",
            "        [2.666],\n",
            "        [1.696],\n",
            "        [0.001]], dtype=torch.float64)\n",
            "\n",
            "\n",
            "candidates:\n",
            "tensor([[0.788, 0.808, 0.356, 1.000, 0.305, 0.108, 1.000],\n",
            "        [0.283, 0.137, 0.263, 0.256, 0.288, 0.643, 1.000],\n",
            "        [0.386, 0.833, 0.000, 0.575, 0.862, 0.049, 1.000],\n",
            "        [0.211, 0.174, 0.244, 0.264, 0.342, 0.669, 1.000]],\n",
            "       dtype=torch.float64)\n",
            "\n",
            "observations:\n",
            "tensor([[0.038],\n",
            "        [2.972],\n",
            "        [2.830],\n",
            "        [2.931]], dtype=torch.float64)\n",
            "\n",
            "\n"
          ]
        }
      ],
      "source": [
        "cumulative_cost = 0.0\n",
        "\n",
        "train_x, train_obj = generate_initial_data(n=16)\n",
        "\n",
        "for _ in range(6):\n",
        "    mll, model = initialize_model(train_x, train_obj)\n",
        "    fit_gpytorch_model(mll)\n",
        "    ei_acqf = get_ei(model, best_f=train_obj.max())\n",
        "    new_x, new_obj, cost = optimize_ei_and_get_observation(ei_acqf)\n",
        "    train_x = torch.cat([train_x, new_x])\n",
        "    train_obj = torch.cat([train_obj, new_obj])\n",
        "    cumulative_cost += cost"
      ]
    },
    {
      "cell_type": "code",
      "execution_count": 12,
      "metadata": {},
      "outputs": [
        {
          "name": "stdout",
          "output_type": "stream",
          "text": [
            "recommended point:\n",
            "tensor([[0.374, 0.858, 0.000, 0.575, 0.876, 0.039, 1.000]],\n",
            "       dtype=torch.float64)\n",
            "\n",
            "objective value:\n",
            "tensor([2.842], dtype=torch.float64)\n",
            "\n",
            "total cost: 144.0\n",
            "\n"
          ]
        }
      ],
      "source": [
        "final_rec = get_recommendation(model)\n",
        "print(f\"\\ntotal cost: {cumulative_cost}\\n\")"
      ]
    }
  ],
  "metadata": {
    "kernelspec": {
      "name": "python3",
      "display_name": "python3"
    }
  },
  "nbformat": 4,
  "nbformat_minor": 2
}
