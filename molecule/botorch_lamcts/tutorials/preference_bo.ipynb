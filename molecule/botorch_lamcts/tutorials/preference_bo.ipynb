{
 "cells": [
  {
   "cell_type": "markdown",
   "metadata": {},
   "source": [
    "## Bayesian optimization with pairwise comparison data\n",
    "\n",
    "In many real-world problems, people are faced with making multi-objective decisions. While it is often hard write down the exact utility function over those objectives, it is much easier for people to make pairwise comparisons. Drawing from utility theory and discrete choice models in economics, one can assume the user makes comparisons based on some intrinsic utility function and model the latent utility function using only the observed attributes and pairwise comparisons. \n",
    "In machine learning terms, we are concerned with [object ranking](https://en.wikipedia.org/wiki/Preference_learning) here.\n",
    "This [book](https://link.springer.com/book/10.1007/978-3-642-14125-6) has some more general discussions on this topic.\n",
    "\n",
    "In this tutorial, we illustrate how to implement a simple Bayesian Optimization (BO) closed loop in BoTorch when we only observe (noisy) pairwise comparisons of the latent function values."
   ]
  },
  {
   "cell_type": "markdown",
   "metadata": {},
   "source": [
    "### Data generation\n",
    "\n",
    "Let's first generate some data that we are going to model.\n",
    "\n",
    "In this tutorial, the latent function we aim to fit is the weighted sum of the input vector, where for dimension $i$, the weight is $\\sqrt{i}$.\n",
    "The input tensor X is randomly sampled within the d-dimensional unit cube.\n",
    "\n",
    "\n",
    "Specifically,\n",
    "$$\n",
    "y = f(X) = \\sum_{i=1}^{d} \\sqrt{i} X_i ~~\\text{where}~~X \\in [0, 1]^d\n",
    "$$\n",
    "\n",
    "This function is monotonically increasing in each individual dimension and has different weights for each input dimension, which are some properties that many real-world utility functions possess.\n",
    "\n",
    "We generate the data using following code:"
   ]
  },
  {
   "cell_type": "code",
   "execution_count": 1,
   "metadata": {},
   "outputs": [],
   "source": [
    "import warnings\n",
    "# suppress warnings from potential numerical issues\n",
    "warnings.filterwarnings(\"ignore\")\n",
    "\n",
    "from itertools import combinations\n",
    "import numpy as np\n",
    "import torch\n",
    "\n",
    "# data generating helper functions\n",
    "def utility(X):\n",
    "    \"\"\" Given X, output corresponding utility (i.e., the latent function)\n",
    "    \"\"\"\n",
    "    # y is weighted sum of X, with weight sqrt(i) imposed on dimension i\n",
    "    weighted_X = X * torch.sqrt(torch.arange(X.size(-1), dtype=torch.float) + 1)\n",
    "    y = torch.sum(weighted_X, dim=-1)\n",
    "    return y\n",
    "\n",
    "def generate_data(n, dim=2):\n",
    "    \"\"\" Generate data X and y \"\"\"\n",
    "    # X is randomly sampled from dim-dimentional unit cube\n",
    "    # we recommend using double as opposed to float tensor here for\n",
    "    # better numerical stability\n",
    "    X = torch.rand(n, dim, dtype=torch.float64)\n",
    "    y = utility(X)\n",
    "    return X, y\n",
    "\n",
    "def generate_comparisons(y, n_comp, noise=0.1, replace=False):\n",
    "    \"\"\"  Create pairwise comparisons with noise \"\"\"\n",
    "    # generate all possible pairs of elements in y\n",
    "    all_pairs = np.array(list(combinations(range(y.shape[0]), 2)))\n",
    "    # randomly select n_comp pairs from all_pairs\n",
    "    comp_pairs = all_pairs[np.random.choice(range(len(all_pairs)), n_comp, replace=replace)]\n",
    "    # add gaussian noise to the latent y values\n",
    "    c0 = y[comp_pairs[:, 0]] + np.random.standard_normal(len(comp_pairs)) * noise\n",
    "    c1 = y[comp_pairs[:, 1]] + np.random.standard_normal(len(comp_pairs)) * noise\n",
    "    reverse_comp = (c0 < c1).numpy()\n",
    "    comp_pairs[reverse_comp, :] = np.flip(comp_pairs[reverse_comp, :], 1)\n",
    "    comp_pairs = torch.tensor(comp_pairs).long()\n",
    "    \n",
    "    return comp_pairs\n",
    "\n",
    "n = 50\n",
    "m = 100\n",
    "dim = 2\n",
    "noise = 0.1\n",
    "train_X, train_y = generate_data(n, dim=dim)\n",
    "train_comp = generate_comparisons(train_y, m, noise=noise)"
   ]
  },
  {
   "cell_type": "markdown",
   "metadata": {},
   "source": [
    "`train_X` is a `n x dim` tensor;\n",
    "\n",
    "`train_y` is a `n`-dimensional vector, representing the noise-free latent function value $y$;\n",
    "\n",
    "`train_comp` is a `m x 2` tensor, representing the noisy comparisons based on $\\tilde{y} = y + N(0, \\sigma^2)$, where `train_comp[k, :] = (i, j)` indicates $\\tilde{y_i} > \\tilde{y_j}$.\n",
    "\n",
    "If y is the utility function value for a set of `n` items for a specific user, $\\tilde{y_i} > \\tilde{y_j}$ indicates (with some noise) the user prefers item i over item j.\n"
   ]
  },
  {
   "cell_type": "markdown",
   "metadata": {},
   "source": [
    "### PairwiseGP model fitting\n",
    "\n",
    "In this problem setting, we never observe the actual function value.\n",
    "Therefore, instead of fitting the model  using (`train_X`, `train_y`) pair, we will fit the model with (`train_X`, `train_comp`).\n",
    "\n",
    "`PairwiseGP` from BoTorch is designed to work with such pairwise comparison input.\n",
    "We use `PairwiseLaplaceMarginalLogLikelihood` as the marginal log likelihood that we aim to maximize for optimizing the hyperparameters."
   ]
  },
  {
   "cell_type": "code",
   "execution_count": 2,
   "metadata": {},
   "outputs": [],
   "source": [
    "from botorch.models.pairwise_gp import PairwiseGP, PairwiseLaplaceMarginalLogLikelihood\n",
    "from botorch.fit import fit_gpytorch_model\n",
    "\n",
    "model = PairwiseGP(train_X, train_comp)\n",
    "mll = PairwiseLaplaceMarginalLogLikelihood(model)\n",
    "mll = fit_gpytorch_model(mll)"
   ]
  },
  {
   "cell_type": "markdown",
   "metadata": {},
   "source": [
    "Because the we never observe the latent function value, output values from the model are only meaningful on a relative scale.\n",
    "Hence, given a test pair (`test_X`, `test_y`), we can evaluate the model using Kendall-Tau rank correlation."
   ]
  },
  {
   "cell_type": "code",
   "execution_count": 3,
   "metadata": {},
   "outputs": [
    {
     "name": "stdout",
     "output_type": "stream",
     "text": [
      "Test Kendall-Tau rank correlation: 0.9849\n"
     ]
    }
   ],
   "source": [
    "from scipy.stats import kendalltau\n",
    "\n",
    "# Kendall-Tau rank correlation\n",
    "def eval_kt_cor(model, test_X, test_y):\n",
    "    pred_y = model.posterior(test_X).mean.squeeze().detach().numpy()\n",
    "    return kendalltau(pred_y, test_y).correlation\n",
    "\n",
    "test_X, test_y = generate_data(1000, dim=dim)\n",
    "kt_correlation = eval_kt_cor(model, test_X, test_y)\n",
    "\n",
    "print(f\"Test Kendall-Tau rank correlation: {kt_correlation:.4f}\")"
   ]
  },
  {
   "cell_type": "markdown",
   "metadata": {},
   "source": [
    "### Perform Bayesian Optimization loop with qNEI\n",
    "\n",
    "Now, we demonstrate how to implement a full Bayesian optimization with `qNoisyExpectedImprovement` (qNEI) acquisition function.\n",
    "\n",
    "The Bayesian optimization loop for a batch size of `q` simply iterates the following steps:\n",
    "1. given a surrogate model, choose a batch of points $X_{next} = \\{x_1, x_2, ..., x_q\\}$\n",
    "2. observe `q_comp` randomly selected pairs of (noisy) comparisons between elements in $X_{next}$\n",
    "3. update the surrogate model with $X_{next}$ and the observed pairwise comparisons\n",
    "\n",
    "We start off by defining a few helper functions."
   ]
  },
  {
   "cell_type": "code",
   "execution_count": 4,
   "metadata": {},
   "outputs": [],
   "source": [
    "from botorch.acquisition.monte_carlo import qNoisyExpectedImprovement\n",
    "from botorch.optim import optimize_acqf\n",
    "\n",
    "def init_and_fit_model(X, comp, state_dict=None):\n",
    "    \"\"\" Model fitting helper function \"\"\"\n",
    "    model = PairwiseGP(X, comp)\n",
    "    mll = PairwiseLaplaceMarginalLogLikelihood(model)\n",
    "    fit_gpytorch_model(mll)\n",
    "        \n",
    "    return mll, model\n",
    "\n",
    "def make_new_data(X, next_X, comps, q_comp):\n",
    "    \"\"\" Given X and next_X, \n",
    "    generate q_comp new comparisons between next_X\n",
    "    and return the concatenated X and comparisons\n",
    "    \"\"\"\n",
    "    # next_X is float by default; cast it to the dtype of X (i.e., double)\n",
    "    next_X = next_X.to(X)\n",
    "    next_y = utility(next_X)\n",
    "    next_comps = generate_comparisons(next_y, n_comp=q_comp, noise=noise)\n",
    "    comps = torch.cat([comps, next_comps + X.shape[-2]])\n",
    "    X = torch.cat([X, next_X])\n",
    "\n",
    "    return X, comps"
   ]
  },
  {
   "cell_type": "markdown",
   "metadata": {},
   "source": [
    "The Bayesian optimization loop is as follows (running the code may take a while)."
   ]
  },
  {
   "cell_type": "code",
   "execution_count": 5,
   "metadata": {},
   "outputs": [],
   "source": [
    "algos = [\"qNEI\", \"rand\"]\n",
    "NUM_TRIALS = 5\n",
    "NUM_BATCHES = 10\n",
    "dim = 5\n",
    "num_restarts = 3\n",
    "num_raw_samples = 128\n",
    "q = 3  # number of points per query\n",
    "q_comp = 3  # number of comparisons per query\n",
    "\n",
    "# initial evals\n",
    "best_vals = {}  # best observed values\n",
    "for algo in algos:\n",
    "    best_vals[algo] = []\n",
    "        \n",
    "# average over multiple trials\n",
    "for i in range(NUM_TRIALS):\n",
    "    data = {}\n",
    "    models = {}\n",
    "    \n",
    "    # Create initial data\n",
    "    init_X, init_y = generate_data(q, dim=dim)\n",
    "    comparisons = generate_comparisons(init_y, q_comp, noise=noise)\n",
    "    test_X, test_y = generate_data(1000, dim=dim)\n",
    "    # X are within the unit cube\n",
    "    bounds = torch.stack([torch.zeros(dim), torch.ones(dim)])\n",
    "    \n",
    "    for algo in algos:\n",
    "        best_vals[algo].append([])\n",
    "        data[algo] = (init_X, comparisons)\n",
    "        _, models[algo] = init_and_fit_model(init_X, comparisons)\n",
    "        model = models[algo]\n",
    "\n",
    "        best_next_y = utility(init_X).max().item()\n",
    "        best_vals[algo][-1].append(best_next_y)\n",
    "\n",
    "    # we make additional NUM_BATCHES comparison queries after the initial observation\n",
    "    for j in range(1, NUM_BATCHES + 1):\n",
    "        for algo in algos:\n",
    "            if algo == \"qNEI\":\n",
    "                # create the acquisition function object\n",
    "                acq_func = qNoisyExpectedImprovement(\n",
    "                    model=model,\n",
    "                    X_baseline=data[\"qNEI\"][0].float()\n",
    "                )\n",
    "                # optimize and get new observation\n",
    "                next_X, acq_val = optimize_acqf(\n",
    "                    acq_function=acq_func,\n",
    "                    bounds=bounds,\n",
    "                    q=q,\n",
    "                    num_restarts=num_restarts,\n",
    "                    raw_samples=num_raw_samples,\n",
    "                )\n",
    "            else:\n",
    "                # randomly sample data\n",
    "                next_X, _ = generate_data(q, dim=dim)\n",
    "\n",
    "            # update data\n",
    "            X, comps = data[algo]\n",
    "            X, comps = make_new_data(X, next_X, comps, q_comp)\n",
    "            data[algo] = (X, comps)\n",
    "\n",
    "            # refit models\n",
    "            model = models[algo]\n",
    "            _, model = init_and_fit_model(X, comps, model.state_dict())\n",
    "            models[algo] = model\n",
    "\n",
    "            # record the best observed values so far\n",
    "            max_val = utility(X).max().item()\n",
    "            best_vals[algo][-1].append(max_val)"
   ]
  },
  {
   "cell_type": "markdown",
   "metadata": {},
   "source": [
    "### Plot the results\n",
    "\n",
    "The plot below shows the best objective value observed at each step of the optimization for each of the acquisition functions. The error bars represent the 95% confidence intervals for the sample mean at that step in the optimization across the trial runs."
   ]
  },
  {
   "cell_type": "code",
   "execution_count": 7,
   "metadata": {},
   "outputs": [
    {
     "data": {
      "text/plain": [
       "<matplotlib.legend.Legend at 0x7f6b291334d0>"
      ]
     },
     "execution_count": 7,
     "metadata": {
      "bento_obj_id": "140098227352784"
     },
     "output_type": "execute_result"
    },
    {
     "data": {
      "image/png": "[encoded data removed]",
      "text/plain": [
       "<Figure size 576x432 with 1 Axes>"
      ]
     },
     "metadata": {
      "bento_obj_id": "140098248991632",
      "needs_background": "light"
     },
     "output_type": "display_data"
    }
   ],
   "source": [
    "from matplotlib import pyplot as plt\n",
    "\n",
    "plt.rcParams.update({'font.size': 14})\n",
    "\n",
    "algo_labels = {\n",
    "    \"rand\": \"Random Exploration\",\n",
    "    \"qNEI\": \"Noisy Expected Improvement\",\n",
    "}\n",
    "\n",
    "def ci(y):\n",
    "    return 1.96 * y.std(axis=0) / np.sqrt(y.shape[0])\n",
    "\n",
    "# the utility function is maximized at the full vector of 1\n",
    "optimal_val = utility(torch.tensor([[1] * dim])).item()\n",
    "iters = list(range(NUM_BATCHES + 1))\n",
    "\n",
    "fig, ax = plt.subplots(1, 1, figsize=(8, 6))\n",
    "# plot the optimal value\n",
    "ax.plot(iters, [optimal_val] * len(iters), label=\"Optimal Function Value\", color=\"black\", linewidth=1.5)\n",
    "\n",
    "# plot the the best observed value from each algorithm\n",
    "for algo in algos:\n",
    "    ys = np.vstack(best_vals[algo])\n",
    "    ax.errorbar(iters, ys.mean(axis=0), yerr=ci(ys), label=algo_labels[algo], linewidth=1.5)\n",
    "\n",
    "ax.set(\n",
    "    xlabel=f'Number of queries (q = {q}, num_comparisons = {q_comp})', \n",
    "    ylabel='Best observed value',\n",
    "    title=f\"{dim}-dim weighted vector sum\"\n",
    ")\n",
    "ax.legend(loc='best')"
   ]
  },
  {
   "cell_type": "markdown",
   "metadata": {},
   "source": [
    "### References\n",
    "\n",
    "Chu, Wei, and Zoubin Ghahramani. 2005. “Preference Learning with Gaussian Processes.” In Proceedings of the 22Nd International Conference on Machine Learning, 137–44. ICML ’05. New York, NY, USA: ACM.\n",
    "\n",
    "Brochu, Eric, Vlad M. Cora, and Nando de Freitas. 2010. “A Tutorial on Bayesian Optimization of Expensive Cost Functions, with Application to Active User Modeling and Hierarchical Reinforcement Learning.” arXiv [cs.LG]. arXiv. http://arxiv.org/abs/1012.2599.\n",
    "\n",
    "González, Javier, Zhenwen Dai, Andreas Damianou, and Neil D. Lawrence. 2017. “Preferential Bayesian Optimization.” In Proceedings of the 34th International Conference on Machine Learning, edited by Doina Precup and Yee Whye Teh, 70:1282–91. Proceedings of Machine Learning Research. International Convention Centre, Sydney, Australia: PMLR.\n",
    "\n"
   ]
  }
 ],
 "metadata": {
  "bento_stylesheets": {
   "bento/extensions/flow/main.css": true,
   "bento/extensions/kernel_selector/main.css": true,
   "bento/extensions/kernel_ui/main.css": true,
   "bento/extensions/new_kernel/main.css": true,
   "bento/extensions/system_usage/main.css": true,
   "bento/extensions/theme/main.css": true
  },
  "disseminate_notebook_id": {
   "notebook_id": "532996367420915"
  },
  "disseminate_notebook_info": {
   "bento_version": "20200830-210251",
   "description": "",
   "hide_code": false,
   "hipster_group": "",
   "kernel_build_info": {
    "error": "The file located at '/data/users/zylin/fbsource/fbcode/bento/kernels/local/ae_experimental/TARGETS' could not be found."
   },
   "no_uii": true,
   "notebook_number": "211624",
   "others_can_edit": false,
   "reviewers": "",
   "revision_id": "1290591741277747",
   "tags": "",
   "tasks": "",
   "title": "PairwiseGP_BayesOpt_Tutorial"
  },
  "kernelspec": {
   "display_name": "ae_experimental (local)",
   "language": "python",
   "name": "ae_experimental_local"
  },
  "language_info": {
   "codemirror_mode": {
    "name": "ipython",
    "version": 3
   },
   "file_extension": ".py",
   "mimetype": "text/x-python",
   "name": "python",
   "nbconvert_exporter": "python",
   "pygments_lexer": "ipython3",
   "version": "3.7.5+"
  }
 },
 "nbformat": 4,
 "nbformat_minor": 2
}
